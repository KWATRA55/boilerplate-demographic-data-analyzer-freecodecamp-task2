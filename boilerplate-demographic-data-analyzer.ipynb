{
 "cells": [
  {
   "cell_type": "code",
   "execution_count": 2,
   "source": [
    "import pandas as pd\r\n",
    "\r\n",
    "\r\n",
    "def calculate_demographic_data(print_data=True):\r\n",
    "    # Read data from file\r\n",
    "    df = pd.read_csv('adult_data.csv')\r\n",
    "    \r\n",
    "\r\n",
    "    # How many of each race are represented in this dataset? This should be a Pandas series with race names as the index labels.\r\n",
    "    race_count = pd.Series(df.race.value_counts())\r\n",
    "\r\n",
    "    # What is the average age of men?\r\n",
    "    average_age_men = round(df[df.sex==\"Male\"].age.mean(), 1)\r\n",
    "\r\n",
    "    # What is the percentage of people who have a Bachelor's degree?\r\n",
    "    percentage_bachelors = round(df[df.education==\"Bachelors\"].count()[0]/df.shape[0] * 100, 1)\r\n",
    "\r\n",
    "    # What percentage of people with advanced education (`Bachelors`, `Masters`, or `Doctorate`) make more than 50K?\r\n",
    "    # What percentage of people without advanced education make more than 50K?\r\n",
    "\r\n",
    "    # with and without `Bachelors`, `Masters`, or `Doctorate`\r\n",
    "    higher_education = df.loc[df['education'].isin(['Bachelors', 'Masters', 'Doctorate'])]\r\n",
    "    lower_education = df.loc[~df['education'].isin(['Bachelors', 'Masters', 'Doctorate'])]\r\n",
    "\r\n",
    "    # percentage with salary >50K\r\n",
    "    higher_education_rich = round((higher_education.salary == \">50K\").sum() / higher_education.shape[0] * 100, 1)\r\n",
    "    lower_education_rich = round((lower_education.salary == \">50K\").sum() / lower_education.shape[0] * 100, 1)\r\n",
    "\r\n",
    "    # What is the minimum number of hours a person works per week (hours-per-week feature)?\r\n",
    "    min_work_hours = df['hours-per-week'].min()\r\n",
    "\r\n",
    "    # What percentage of the people who work the minimum number of hours per week have a salary of >50K?\r\n",
    "    num_min_workers = df[df['hours-per-week'] == min_work_hours].shape[0]\r\n",
    "\r\n",
    "    rich_percentage = round(df[(df['hours-per-week'] == min_work_hours) & (df.salary == \">50K\")].shape[0] / num_min_workers * 100, 1)\r\n",
    "\r\n",
    "    # What country has the highest percentage of people that earn >50K?\r\n",
    "    highest_earning_country = df[df.salary == \">50K\"][\"native-country\"].value_counts().keys()[0]\r\n",
    "\r\n",
    "    highest_earning_country_percentage = df[df.salary == \">50K\"][\"native-country\"].value_counts().max() / (df[\"native-country\"] == \"United-States\").sum() * 100\r\n",
    "  # Identify the most popular occupation for those who earn >50K in India. \r\n",
    "\r\n",
    "    top_IN_occupation = df[(df['salary'] == '>50K') & (df['native-country'] == 'India')]['occupation'].value_counts().keys()[0]\r\n",
    "\r\n",
    "\r\n",
    "    # DO NOT MODIFY BELOW THIS LINE\r\n",
    "\r\n",
    "    if print_data:\r\n",
    "        print(\"Number of each race:\\n\", race_count) \r\n",
    "        print(\"Average age of men:\", average_age_men)\r\n",
    "        print(f\"Percentage with Bachelors degrees: {percentage_bachelors}%\")\r\n",
    "        print(f\"Percentage with higher education that earn >50K: {higher_education_rich}%\")\r\n",
    "        print(f\"Percentage without higher education that earn >50K: {lower_education_rich}%\")\r\n",
    "        print(f\"Min work time: {min_work_hours} hours/week\")\r\n",
    "        print(f\"Percentage of rich among those who work fewest hours: {rich_percentage}%\")\r\n",
    "        print(\"Country with highest percentage of rich:\", highest_earning_country)\r\n",
    "        print(f\"Highest percentage of rich people in country: {highest_earning_country_percentage}%\")\r\n",
    "        print(\"Top occupations in India:\", top_IN_occupation)\r\n",
    "\r\n",
    "    return {\r\n",
    "        'race_count': race_count,\r\n",
    "        'average_age_men': average_age_men,\r\n",
    "        'percentage_bachelors': percentage_bachelors,\r\n",
    "        'higher_education_rich': higher_education_rich,\r\n",
    "        'lower_education_rich': lower_education_rich,\r\n",
    "        'min_work_hours': min_work_hours,\r\n",
    "        'rich_percentage': rich_percentage,\r\n",
    "        'highest_earning_country': highest_earning_country,\r\n",
    "        'highest_earning_country_percentage':\r\n",
    "        highest_earning_country_percentage,\r\n",
    "        'top_IN_occupation': top_IN_occupation\r\n",
    "    }\r\n",
    "calculate_demographic_data"
   ],
   "outputs": [
    {
     "output_type": "execute_result",
     "data": {
      "text/plain": [
       "<function __main__.calculate_demographic_data(print_data=True)>"
      ]
     },
     "metadata": {},
     "execution_count": 2
    }
   ],
   "metadata": {}
  },
  {
   "cell_type": "code",
   "execution_count": null,
   "source": [],
   "outputs": [],
   "metadata": {}
  }
 ],
 "metadata": {
  "orig_nbformat": 4,
  "language_info": {
   "name": "python",
   "version": "3.9.5",
   "mimetype": "text/x-python",
   "codemirror_mode": {
    "name": "ipython",
    "version": 3
   },
   "pygments_lexer": "ipython3",
   "nbconvert_exporter": "python",
   "file_extension": ".py"
  },
  "kernelspec": {
   "name": "python3",
   "display_name": "Python 3.9.5 64-bit"
  },
  "interpreter": {
   "hash": "c569cd2e17f62341e0f08a54f9a867c3c0d3a6f67454072d7de41a8b5dff8343"
  }
 },
 "nbformat": 4,
 "nbformat_minor": 2
}